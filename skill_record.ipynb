{
 "cells": [
  {
   "cell_type": "code",
   "execution_count": 17,
   "id": "4939daa1-7547-438c-b415-fc7e29359e67",
   "metadata": {},
   "outputs": [],
   "source": [
    "# a function that will insert the users data into the database\n",
    "def insert_user(skills_record):\n",
    "    firstname = input(\"Enter a first name: \")\n",
    "    skill = input(\"Enter the name of the skill: \")\n",
    "    level = input(\"Enter the level for the skill from 1 - 10 (For example: 1 = Novice, 10 = Advanced): \")\n",
    "    level = int(level)\n",
    "    user_info = {\n",
    "        \"Name\": firstname,\n",
    "        \"Skill\": skill,\n",
    "        \"level\": level\n",
    "    }\n",
    "    skills_record.append(user_info)\n",
    "    print(f\"User {firstname} was added successfully!\")"
   ]
  },
  {
   "cell_type": "code",
   "execution_count": 18,
   "id": "7800f83b-6275-4ca1-a010-e8b13c3cd54a",
   "metadata": {},
   "outputs": [],
   "source": [
    "# a function that allows a user to be deleted from the database\n",
    "def delete_user(skills_record, firstname):\n",
    "    skills_record = [user for user in skills_record if user['Name'] != firstname]\n",
    "    print(f\"User {firstname} was deleted successfully from the skills database!\")\n",
    "    return skills_record"
   ]
  },
  {
   "cell_type": "code",
   "execution_count": 19,
   "id": "6eb1c883-8d8f-40d7-8557-2686d988e409",
   "metadata": {},
   "outputs": [],
   "source": [
    "#a function to search for users within the database by name\n",
    "def search_user(skills_record, firstname):\n",
    "    results = [user for user in skills_record if user['Name']== firstname]\n",
    "    return results"
   ]
  },
  {
   "cell_type": "code",
   "execution_count": 20,
   "id": "2db2a3fb-5884-4696-89d9-c546c67cf41c",
   "metadata": {},
   "outputs": [],
   "source": [
    "def showrecord(skills_record):  \n",
    "    print(\"Current skills record contains: \")\n",
    "    for user in skills_record:\n",
    "        print(user)"
   ]
  },
  {
   "cell_type": "code",
   "execution_count": 21,
   "id": "2441639e-9fe2-4b8a-9508-2c88bdd9d953",
   "metadata": {},
   "outputs": [],
   "source": [
    "def sort_record(old_record):\n",
    "    #create an empty list called new_list\n",
    "    sort_record = []\n",
    "    #while old_record has items in it\n",
    "    while(len(old_record) > 0):\n",
    "        #iterate over old_record\n",
    "        lowest_skill_index = 0\n",
    "        lowest_skill_level = 9999999\n",
    "        for i in range(0, len(old_record)):\n",
    "            #keep track of earliest name and index\n",
    "            if (old_record[i][\"level\"] < lowest_skill_level):\n",
    "                lowest_skill_index = i\n",
    "                lowest_skill_level = old_record[i][\"level\"]\n",
    "        #pop earliest name and add to new list\n",
    "        lowest_skill_person = old_record.pop(lowest_skill_index)\n",
    "        sort_record.append(lowest_skill_person)\n",
    "    return sort_record"
   ]
  },
  {
   "cell_type": "code",
   "execution_count": null,
   "id": "0f91575b-f9cf-4e54-b3ff-55e81d5826d2",
   "metadata": {},
   "outputs": [],
   "source": [
    "#adding a navigation menu to the skills record\n",
    "def main_menu():\n",
    "\n",
    "    # create an empty list to store the users information inside\n",
    "    skills_record = []\n",
    "\n",
    "    while True:\n",
    "        print(\"\\nSkills record main menu:\")\n",
    "        print(\"\\n1- Insert a user\")\n",
    "        print(\"\\n2- Delete a user\")\n",
    "        print(\"\\n3- Search for a user\")\n",
    "        print(\"\\n4- Display the contents of the record\")\n",
    "        print(\"\\n5- Sort the record based on 'skill level'\")\n",
    "        print(\"\\n6- Exit the skills record\")     \n",
    "\n",
    "        choice = input(\"\\nEnter what you want to do (1-6): \")\n",
    "\n",
    "        if choice == '1':\n",
    "            insert_user(skills_record)\n",
    "        elif choice == '2':\n",
    "            firstname = input(\"Enter the name of the user you wish to delete: \")\n",
    "            skills_record = delete_user(skills_record, firstname)\n",
    "        elif choice == '3':\n",
    "            firstname = input(\"Enter the name of someone you want to search: \")\n",
    "            results = search_user(skills_record, firstname)\n",
    "            if results:\n",
    "                print(\"Search results: \")\n",
    "                for user in results:\n",
    "                    print(user)\n",
    "            else:\n",
    "                print(\"There were no users found under that name!\")\n",
    "        elif choice == '4':\n",
    "            showrecord(skills_record)\n",
    "        elif choice == '5':\n",
    "            #sorting the record\n",
    "            skills_record = sort_record(skills_record)\n",
    "            print(\"Sorted Skills Record:\", skills_record)   \n",
    "        elif choice == '6':\n",
    "            print(\"Exiting the skills record....\")\n",
    "            break \n",
    "        else:\n",
    "            print('That was an invalid choice. Please try again.')"
   ]
  },
  {
   "cell_type": "code",
   "execution_count": null,
   "id": "941ad6f4-2094-4452-9637-7c3a94bd4443",
   "metadata": {},
   "outputs": [
    {
     "name": "stdout",
     "output_type": "stream",
     "text": [
      "\n",
      "Skills record main menu:\n",
      "\n",
      "1- Insert a user\n",
      "\n",
      "2- Delete a user\n",
      "\n",
      "3- Search for a user\n",
      "\n",
      "4- Display the contents of the record\n",
      "\n",
      "5- Sort the record based on 'skill level'\n",
      "\n",
      "6- Exit the skills record\n"
     ]
    },
    {
     "name": "stdin",
     "output_type": "stream",
     "text": [
      "\n",
      "Enter what you want to do (1-6):  3\n",
      "Enter the name of someone you want to search:  steve\n"
     ]
    },
    {
     "name": "stdout",
     "output_type": "stream",
     "text": [
      "There were no users found under that name!\n",
      "\n",
      "Skills record main menu:\n",
      "\n",
      "1- Insert a user\n",
      "\n",
      "2- Delete a user\n",
      "\n",
      "3- Search for a user\n",
      "\n",
      "4- Display the contents of the record\n",
      "\n",
      "5- Sort the record based on 'skill level'\n",
      "\n",
      "6- Exit the skills record\n"
     ]
    },
    {
     "name": "stdin",
     "output_type": "stream",
     "text": [
      "\n",
      "Enter what you want to do (1-6):  1\n",
      "Enter a first name:  John\n",
      "Enter the name of the skill:  Running\n",
      "Enter the level for the skill from 1 - 10 (For example: 1 = Novice, 10 = Advanced):  6\n"
     ]
    },
    {
     "name": "stdout",
     "output_type": "stream",
     "text": [
      "User John was added successfully!\n",
      "\n",
      "Skills record main menu:\n",
      "\n",
      "1- Insert a user\n",
      "\n",
      "2- Delete a user\n",
      "\n",
      "3- Search for a user\n",
      "\n",
      "4- Display the contents of the record\n",
      "\n",
      "5- Sort the record based on 'skill level'\n",
      "\n",
      "6- Exit the skills record\n"
     ]
    },
    {
     "name": "stdin",
     "output_type": "stream",
     "text": [
      "\n",
      "Enter what you want to do (1-6):  2\n",
      "Enter the name of the user you wish to delete:  Steve\n"
     ]
    },
    {
     "name": "stdout",
     "output_type": "stream",
     "text": [
      "User Steve was deleted successfully from the skills database!\n",
      "\n",
      "Skills record main menu:\n",
      "\n",
      "1- Insert a user\n",
      "\n",
      "2- Delete a user\n",
      "\n",
      "3- Search for a user\n",
      "\n",
      "4- Display the contents of the record\n",
      "\n",
      "5- Sort the record based on 'skill level'\n",
      "\n",
      "6- Exit the skills record\n"
     ]
    }
   ],
   "source": [
    "#run the main menu\n",
    "if __name__ == \"__main__\":\n",
    "    main_menu()"
   ]
  }
 ],
 "metadata": {
  "kernelspec": {
   "display_name": "Python 3 (ipykernel)",
   "language": "python",
   "name": "python3"
  },
  "language_info": {
   "codemirror_mode": {
    "name": "ipython",
    "version": 3
   },
   "file_extension": ".py",
   "mimetype": "text/x-python",
   "name": "python",
   "nbconvert_exporter": "python",
   "pygments_lexer": "ipython3",
   "version": "3.10.2"
  }
 },
 "nbformat": 4,
 "nbformat_minor": 5
}
